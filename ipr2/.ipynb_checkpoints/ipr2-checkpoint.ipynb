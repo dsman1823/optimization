{
 "cells": [
  {
   "cell_type": "code",
   "execution_count": 197,
   "metadata": {},
   "outputs": [],
   "source": [
    "import numpy as np\n",
    "from numpy.linalg import inv\n",
    "from itertools import product\n",
    "import itertools\n",
    "import math"
   ]
  },
  {
   "cell_type": "code",
   "execution_count": 198,
   "metadata": {},
   "outputs": [],
   "source": [
    "A = np.array([\n",
    "    [1, 2, 0, 1, 0, 4, -1, -3],\n",
    "    [1, 3, 0, 0, 1, -1, -1, 2],\n",
    "    [1, 4, 1, 0, 0, 2, -2, 0]\n",
    "])\n",
    "\n",
    "b = np.array([4, 5, 6])\n",
    "B = np.array([\n",
    "    [1, 1, -1, 0, 3, 4, -2, 1],\n",
    "    [2, 6, 0, 0, 1, -5, 0, -1],\n",
    "    [-1, 2, 0, 0, -1, 1, 1, 1]\n",
    "])\n",
    "d = np.array([7, 3, 3])\n",
    "D = np.dot(B.T, B)\n",
    "c = -np.dot(d, B)\n",
    "x_beg = np.array([0, 0, 6, 4, 5, 0, 0, 0])\n",
    "J_B = np.array([2, 3, 4])\n",
    "m, n = A.shape"
   ]
  },
  {
   "cell_type": "code",
   "execution_count": 226,
   "metadata": {},
   "outputs": [],
   "source": [
    "def find_j_0(delta): \n",
    "    return np.arange(len(delta))[delta < 0][0]\n",
    "\n",
    "\n",
    "def get_D_star(J_B, D):\n",
    "    D_star = []\n",
    "    for ind in product(J_B, J_B):\n",
    "        D_star.append(D[ind])\n",
    "    D_star = np.array(D_star)\n",
    "    D_star.resize(m, m)\n",
    "    return D_star\n",
    "\n",
    "\n",
    "def get_theta(x, l, J_B, delta, j_0):\n",
    "    theta = []\n",
    "    for i in J_B:\n",
    "        theta.append(math.inf if l[i] >= 0 else -x[i]/l[i])\n",
    "    ddelta = np.dot(np.dot(l, D), l)\n",
    "    theta_j_0 = abs(delta[j_0]) / ddelta if ddelta > 0 else math.inf \n",
    "    theta.append(theta_j_0)\n",
    "    return theta"
   ]
  },
  {
   "cell_type": "code",
   "execution_count": 227,
   "metadata": {},
   "outputs": [],
   "source": [
    "c_dash = np.dot(D, x_beg) + c\n",
    "A_B = A[:, J_B]\n",
    "c_dash_B = c_dash[J_B]\n",
    "u = -np.dot(c_dash_B, inv(A_B))\n",
    "delta = np.dot(u, A) + c_dash"
   ]
  },
  {
   "cell_type": "code",
   "execution_count": 228,
   "metadata": {},
   "outputs": [],
   "source": [
    "J_N = list(set(range(n)) - set(J_B))\n",
    "l = np.zeros(n)\n",
    "l[find_j_0(delta)] = 1\n",
    "D_star = get_D_star(J_B, D)"
   ]
  },
  {
   "cell_type": "code",
   "execution_count": 230,
   "metadata": {},
   "outputs": [],
   "source": [
    "j_0 = find_j_0(delta)\n",
    "m_H = D_star.shape[0] + m\n",
    "n_H = D_star.shape[1] + A_B.shape[1]\n",
    "H = np.zeros((m_H, n_H))\n",
    "H[:D_star.shape[0], :D_star.shape[1]] = D_star\n",
    "H[D_star.shape[0]:H.shape[0], :D_star.shape[1]] = A_B\n",
    "H[:D_star.shape[0], D_star.shape[1]:H.shape[1]] = A_B.T\n",
    "bb = np.concatenate([D[J_B, 1], A[:, j_0]])\n",
    "l_J_B = -np.dot(inv(H), bb)[:m]\n",
    "l[J_B] = l_J_B\n",
    "theta = get_theta(x_beg, l, J_B, delta, j_0)\n",
    "theta_0 = min(theta)"
   ]
  },
  {
   "cell_type": "code",
   "execution_count": 231,
   "metadata": {},
   "outputs": [
    {
     "data": {
      "text/plain": [
       "array([0.  , 0.84, 2.64, 2.32, 2.48, 0.  , 0.  , 0.  ])"
      ]
     },
     "execution_count": 231,
     "metadata": {},
     "output_type": "execute_result"
    }
   ],
   "source": [
    "x_beg + theta_0 * l"
   ]
  },
  {
   "cell_type": "code",
   "execution_count": 233,
   "metadata": {},
   "outputs": [
    {
     "data": {
      "text/plain": [
       "([0, 1, 5, 6, 7], array([2, 3, 4]))"
      ]
     },
     "execution_count": 233,
     "metadata": {},
     "output_type": "execute_result"
    }
   ],
   "source": [
    "J_N, J_B"
   ]
  },
  {
   "cell_type": "code",
   "execution_count": null,
   "metadata": {},
   "outputs": [],
   "source": []
  }
 ],
 "metadata": {
  "kernelspec": {
   "display_name": "Python 3",
   "language": "python",
   "name": "python3"
  },
  "language_info": {
   "codemirror_mode": {
    "name": "ipython",
    "version": 3
   },
   "file_extension": ".py",
   "mimetype": "text/x-python",
   "name": "python",
   "nbconvert_exporter": "python",
   "pygments_lexer": "ipython3",
   "version": "3.6.9"
  }
 },
 "nbformat": 4,
 "nbformat_minor": 4
}
