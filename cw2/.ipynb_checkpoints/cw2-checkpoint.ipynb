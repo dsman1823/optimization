{
 "cells": [
  {
   "cell_type": "code",
   "execution_count": 2,
   "metadata": {},
   "outputs": [],
   "source": [
    "import numpy as np\n",
    "from numpy import dot as dot\n",
    "import math\n",
    "from scipy.optimize import linprog"
   ]
  },
  {
   "cell_type": "code",
   "execution_count": 95,
   "metadata": {},
   "outputs": [],
   "source": [
    "B = []\n",
    "B.append([\n",
    "        [2, 1, 0, 4, 0, 3, 0, 0],\n",
    "        [0, 4, 0, 3, 1, 1, 3, 2],\n",
    "        [1, 3, 0, 5, 0, 4, 0, 4]\n",
    "    ])\n",
    "B.append([\n",
    "        [0,     0,   0.5,   2.5,   1,   0,    -2.5, -2],\n",
    "        [0.5,   0.5, -0.5,  0,     0.5, -0.5, -0.5, -0.5],\n",
    "        [0.5,   0.5, 0.5,   0,     0.5, 1,     2.5, 4]\n",
    "    ])\n",
    "B.append([\n",
    "        [1, 2, -1.5, 3, -2.5, 0, -1, -0.5],\n",
    "        [-1.5, -0.5, -1, 2.5, 3.5, 3, -1.5, -0.5],\n",
    "        [1.5, 2.5, 1, 1, 2.5, 1.5, 3, 0]\n",
    "    ])\n",
    "B.append([\n",
    "        [0.75, 0.5, -1, 0.25, 0.25, 0, 0.25, 0.75],\n",
    "        [-1, 1, 1, 0.75, 0.75, 0.5, 1, -0.75], \n",
    "        [0.5, -0.25, 0.5, 0.75, 0.5, 1.25, -0.75, -0.25],\n",
    "    ])\n",
    "B.append([\n",
    "        [1.5, -1.5, -1.5, 2, 1.5, 0, 0.5, -1.5],\n",
    "        [-0.5, -2.5, -0.5, -1, -2.5, 2.5, 1, 2],\n",
    "        [-2.5, 1, -2, 1.5, -2.5, 0.5, 2.5, -2.5]\n",
    "    ])\n",
    "B.append([\n",
    "        [1, 0.25, -0.5, 1.25, 1.25, -0.5, 0.25, -0.75],\n",
    "        [-1, -0.75, -0.75, 0.5, -0.25, 1.25, 0.25, -0.5],\n",
    "        [0, 0.75, 0.5, -0.5, -1, 1, -1, 1]\n",
    "    ])\n",
    "B = [np.array(np.array([b_i for b_i in b])) for b in B]\n",
    "\n",
    "c = np.array([\n",
    "        [-1, -1, -1, -1, -2, 0, -2, -3],\n",
    "        [0, 60, 80, 0, 0, 0, 40, 0],\n",
    "        [2, 0, 3, 0, 2, 0, 3, 0],\n",
    "        [0, 0, 80, 0, 0, 0, 0, 0],\n",
    "        [0, -2, 1, 2, 0, 0, -2, 1],\n",
    "        [-4, -2, 6, 0, 4, -2, 60, 2]\n",
    "    ])\n",
    "\n",
    "a = np.array(\n",
    "    [-51.75, -436.75, -33.7813, -303.3750, -41.75]\n",
    ")\n",
    "\n",
    "\n",
    "x_0 = np.array([1, 0, 0, 2, 4, 2, 0, 0])"
   ]
  },
  {
   "cell_type": "code",
   "execution_count": 102,
   "metadata": {},
   "outputs": [],
   "source": [
    "B = []\n",
    "B.append([\n",
    "        [2, 1, 0, -4, 0, 3, 0, 0],\n",
    "        [0, 4, 0, 3, 2, 1, 3, 2],\n",
    "        [-1, 3, 0, 5, 0, 4, 0, 4]\n",
    "    ])\n",
    "B.append([\n",
    "        [0,     0,   0.5,   0,   -1,   0.5,    0, -2],\n",
    "        [0.5,   0, -0.5,  0,     0.5, -0.5, -0.5, -0.5],\n",
    "        [0.5,   0.5, 0.5,   0,     0.5, 0,     2.5, 4]\n",
    "    ])\n",
    "B.append([\n",
    "        [1, 2, -1.5, 3, -2.5, 0, -1, -0.5],\n",
    "        [-1.5, -0.5, -1, -2.5, 3.5, -3, -1.5, -0.5],\n",
    "        [1.5, 2.5, -1, 1, 2.5, 1.5, 3, 0]\n",
    "    ])\n",
    "B.append([\n",
    "        [0.75, 0.5, 1, 0.25, 0.25, 0, 0.25, 0.75],\n",
    "        [-1, 1, 4, 0.75, -0.75, 0.5, 8, -0.75], \n",
    "        [0.5, -0.25, 0.5, 0.75, 0.5, 1.25, -0.75, -0.25],\n",
    "    ])\n",
    "B.append([\n",
    "        [2.5, -1.5, -1.5, 2, 1.5, 0, 0.5, -1.5],\n",
    "        [-0.5, -2.5, -0.5, -6, -2.5, 4.5, 1,1],\n",
    "        [-2.5, 1, -2, -1.5, -2.5, 0.5, 8.5, -2.5]\n",
    "    ])\n",
    "B.append([\n",
    "        [1, 0.25, -0.5, 0, 1.25, -0.5, 0.25, -0.75],\n",
    "        [-1, -0.75, -0.75, 0.5, -0.25, -1.25, 0.25, -0.5],\n",
    "        [0, 0.75, 0.5, -0.5, -1, 1, -1, 1]\n",
    "    ])\n",
    "B = [np.array(np.array([b_i for b_i in b])) for b in B]\n",
    "\n",
    "c = np.array([\n",
    "        [-2, -4, -1, -1, -2, 0, -3, -3],\n",
    "        [60, 0, 80, 0, 0, 0, 40, 0],\n",
    "        [2, 0, 3, 2, 2, 0, 3, 0],\n",
    "        [0, 0, 80, 0, 0, 0, 0, 0],\n",
    "        [0, -2, 1, 2, 0, 0, -2, 1],\n",
    "        [-4, -2, 6, 0, 4, -2, 60, 2]\n",
    "    ])\n",
    "\n",
    "a = np.array(\n",
    "    [-84.25, -158.75, -126.5625, -117.625, -17.8125]\n",
    ")\n",
    "\n",
    "\n",
    "x_0 = np.array([0, 3, 1, 1, 0, 2, 0, 0])"
   ]
  },
  {
   "cell_type": "code",
   "execution_count": 103,
   "metadata": {},
   "outputs": [],
   "source": [
    "def g_i(i, x):  return 0.5 * dot(dot(x, B[i].T), dot(x, B[i].T)) + dot(c[i], x) + a[i - 1]\n",
    "\n",
    "\n",
    "def f(x): return 0.5 * dot(dot(x, B[0].T), dot(x, B[0].T)) + dot(c[0], x)\n",
    "    \n",
    "    \n",
    "def get_I_0(g_values):\n",
    "    res = []\n",
    "    for i in range(len(g_values)):\n",
    "        if abs(g_values[i]) < 10e-5:\n",
    "            res.append(i + 1)\n",
    "            \n",
    "            \n",
    "    return res\n",
    "\n",
    "def get_J_0(x):\n",
    "    res = []\n",
    "    for i in range(len(x)):\n",
    "        if x[i] == 0:\n",
    "            res.append(i + 1)\n",
    "            \n",
    "    return res"
   ]
  },
  {
   "cell_type": "code",
   "execution_count": 113,
   "metadata": {},
   "outputs": [
    {
     "name": "stdout",
     "output_type": "stream",
     "text": [
      "f(x*): 385.0\n",
      "g_1(x*): 0.0\n",
      "g_2(x*): -10.0\n",
      "g_3(x*): 0.0\n",
      "g_4(x*): -100.0\n",
      "g_5(x*): 0.0\n"
     ]
    }
   ],
   "source": [
    "print(f'f(x*): {f(x_0)}')\n",
    "for i in range(1, 6):\n",
    "    print(f'g_{i}(x*): {g_i(i, x_0)}')"
   ]
  },
  {
   "cell_type": "code",
   "execution_count": 104,
   "metadata": {},
   "outputs": [],
   "source": [
    "g_values = [g_i(i, x_0) for i in range(1, 6)]\n",
    "I_0 = get_I_0(g_values)\n",
    "J_0 = get_J_0(x_0)"
   ]
  },
  {
   "cell_type": "code",
   "execution_count": 114,
   "metadata": {},
   "outputs": [
    {
     "name": "stdout",
     "output_type": "stream",
     "text": [
      "I_0: [1, 3, 5]\n",
      "J_0: [1, 5, 7, 8]\n"
     ]
    }
   ],
   "source": [
    "print(f'I_0: {I_0}')\n",
    "print(f'J_0: {J_0}')"
   ]
  },
  {
   "cell_type": "code",
   "execution_count": 105,
   "metadata": {},
   "outputs": [],
   "source": [
    "def mdot(a, b, c): return dot(a, dot(b, c))"
   ]
  },
  {
   "cell_type": "code",
   "execution_count": 106,
   "metadata": {},
   "outputs": [],
   "source": [
    "def derive_f(x): return dot(dot(x, B[0].T), B[0]) + c[0]\n",
    "\n",
    "\n",
    "def derive_g_i(x, i): return dot(dot(x, B[i].T), B[i]) + c[i]"
   ]
  },
  {
   "cell_type": "code",
   "execution_count": 107,
   "metadata": {},
   "outputs": [],
   "source": [
    "d_fx = derive_f(x_0)"
   ]
  },
  {
   "cell_type": "code",
   "execution_count": 108,
   "metadata": {},
   "outputs": [
    {
     "name": "stdout",
     "output_type": "stream",
     "text": [
      "df(x*)/dx: \n",
      " [-14 135  -1 140  32 120  48 119]\n",
      "df(x*)/dx: \n",
      " [60.25  1.   82.5   0.   -1.25  1.5  45.75  5.75]\n",
      "df(x*)/dx: \n",
      " [ 41.75  46.75  -7.75  62.5  -29.    48.75  43.5    1.75]\n",
      "df(x*)/dx: \n",
      " [ -5.1875   9.375  119.25     9.5     -4.375    8.125   68.4375  -5.25  ]\n",
      "df(x*)/dx: \n",
      " [ -8.75  17.     8.5   23.25   5.25 -22.25  -4.75   0.75]\n",
      "df(x*)/dx: \n",
      " [ 0.25    4.75   12.25   -4.625   0.0625  8.875  54.3125  9.3125]\n"
     ]
    }
   ],
   "source": [
    "print(f'df(x*)/dx: \\n {d_fx}')\n",
    "for i in range(1, 6):\n",
    "    print(f'df(x*)/dx: \\n {derive_g_i(x_0, i)}')"
   ]
  },
  {
   "cell_type": "code",
   "execution_count": 168,
   "metadata": {},
   "outputs": [],
   "source": [
    "costs = derive_f(x_0)\n",
    "A_ub = [derive_g_i(x_0, i) for i in I_0]\n",
    "b_ub = [0] * len(x_0)\n",
    "lb = [-1] * len(x_0)\n",
    "for j in I_0:\n",
    "    lb[j - 1] = 0\n",
    "ub = [1] * len(x_0)\n",
    "l = linprog(c=costs, A_ub=A_ub, b_ub=[0, 0, 0], bounds=list(zip(lb, ub))).x"
   ]
  },
  {
   "cell_type": "code",
   "execution_count": 169,
   "metadata": {
    "scrolled": true
   },
   "outputs": [
    {
     "name": "stdout",
     "output_type": "stream",
     "text": [
      "l_0: [ 8.96265560e-01 -1.00000000e+00  1.05313138e-12 -1.00000000e+00\n",
      "  1.01260698e-12 -1.00000000e+00 -1.00000000e+00 -1.00000000e+00]\n"
     ]
    }
   ],
   "source": [
    "print(f'l_0: {l}')"
   ]
  },
  {
   "cell_type": "code",
   "execution_count": 170,
   "metadata": {},
   "outputs": [
    {
     "name": "stdout",
     "output_type": "stream",
     "text": [
      "(d_f(x*)/dx, l_0): -574.5477178421232\n"
     ]
    }
   ],
   "source": [
    "print(f'(d_f(x*)/dx, l_0): {dot(d_fx, l)}')"
   ]
  },
  {
   "cell_type": "code",
   "execution_count": 171,
   "metadata": {},
   "outputs": [],
   "source": [
    "x_sub = np.array([0] * len(x_0))\n",
    "delta_x = x_sub - x_0"
   ]
  },
  {
   "cell_type": "code",
   "execution_count": 172,
   "metadata": {},
   "outputs": [
    {
     "name": "stdout",
     "output_type": "stream",
     "text": [
      "x_sub: [0 0 0 0 0 0 0 0]\n",
      "g_1(x_sub): -84.25\n",
      "g_2(x_sub): -158.75\n",
      "g_3(x_sub): -126.5625\n",
      "g_4(x_sub): -117.625\n",
      "g_5(x_sub): -17.8125\n"
     ]
    }
   ],
   "source": [
    "print(f'x_sub: {x_sub}')\n",
    "for i in range(1, 6):\n",
    "    print(f'g_{i}(x_sub): {g_i(i, x_sub)}')"
   ]
  },
  {
   "cell_type": "code",
   "execution_count": 173,
   "metadata": {},
   "outputs": [],
   "source": [
    "alpha = 1"
   ]
  },
  {
   "cell_type": "code",
   "execution_count": 174,
   "metadata": {},
   "outputs": [
    {
     "data": {
      "text/plain": [
       "-1358.5477178421233"
      ]
     },
     "execution_count": 174,
     "metadata": {},
     "output_type": "execute_result"
    }
   ],
   "source": [
    "dot(d_fx, l) + alpha * dot(d_fx, delta_x)"
   ]
  },
  {
   "cell_type": "code",
   "execution_count": 183,
   "metadata": {},
   "outputs": [],
   "source": [
    "def x_tf(t, x_0, alpha, delta_x): return x_0 + t * alpha * delta_x"
   ]
  },
  {
   "cell_type": "code",
   "execution_count": 188,
   "metadata": {},
   "outputs": [],
   "source": [
    "t = 0.5\n",
    "x_t = x_tf(t, x_0, alpha, delta_x)"
   ]
  },
  {
   "cell_type": "code",
   "execution_count": 189,
   "metadata": {},
   "outputs": [
    {
     "data": {
      "text/plain": [
       "array([0. , 1.5, 0.5, 0.5, 0. , 1. , 0. , 0. ])"
      ]
     },
     "execution_count": 189,
     "metadata": {},
     "output_type": "execute_result"
    }
   ],
   "source": [
    "x_t"
   ]
  },
  {
   "cell_type": "code",
   "execution_count": 190,
   "metadata": {},
   "outputs": [
    {
     "name": "stdout",
     "output_type": "stream",
     "text": [
      "t = 0.5, alpha = 1\n",
      "x_t: [0.  1.5 0.5 0.5 0.  1.  0.  0. ]\n",
      "g_1(x(t)): -43.1875\n",
      "g_2(x(t)): -120.3125\n",
      "g_3(x(t)): -74.921875\n",
      "g_4(x(t)): -113.96875\n",
      "g_5(x(t)): -14.359375\n"
     ]
    }
   ],
   "source": [
    "print(f't = {t}, alpha = 1')\n",
    "print(f'x_t: {x_t}')\n",
    "for i in range(1, 6):\n",
    "    print(f'g_{i}(x(t)): {g_i(i, x_t)}')"
   ]
  },
  {
   "cell_type": "code",
   "execution_count": 179,
   "metadata": {},
   "outputs": [
    {
     "data": {
      "text/plain": [
       "0.0"
      ]
     },
     "execution_count": 179,
     "metadata": {},
     "output_type": "execute_result"
    }
   ],
   "source": [
    "f(x_sub)"
   ]
  },
  {
   "cell_type": "code",
   "execution_count": 153,
   "metadata": {},
   "outputs": [
    {
     "data": {
      "text/plain": [
       "([1, 3, 5], [1, 5, 7, 8])"
      ]
     },
     "execution_count": 153,
     "metadata": {},
     "output_type": "execute_result"
    }
   ],
   "source": [
    "I_0, J_0"
   ]
  },
  {
   "cell_type": "code",
   "execution_count": 117,
   "metadata": {},
   "outputs": [
    {
     "data": {
      "text/plain": [
       "[-84.25, -158.75, -126.5625, -117.625, -17.8125]"
      ]
     },
     "execution_count": 117,
     "metadata": {},
     "output_type": "execute_result"
    }
   ],
   "source": [
    "[g_i(i, x_sub) for i in range(1, 6)]"
   ]
  },
  {
   "cell_type": "code",
   "execution_count": null,
   "metadata": {},
   "outputs": [],
   "source": []
  }
 ],
 "metadata": {
  "kernelspec": {
   "display_name": "Python 3",
   "language": "python",
   "name": "python3"
  },
  "language_info": {
   "codemirror_mode": {
    "name": "ipython",
    "version": 3
   },
   "file_extension": ".py",
   "mimetype": "text/x-python",
   "name": "python",
   "nbconvert_exporter": "python",
   "pygments_lexer": "ipython3",
   "version": "3.6.9"
  }
 },
 "nbformat": 4,
 "nbformat_minor": 2
}
