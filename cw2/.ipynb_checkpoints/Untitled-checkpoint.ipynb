{
 "cells": [
  {
   "cell_type": "code",
   "execution_count": 2,
   "metadata": {},
   "outputs": [],
   "source": [
    "import numpy as np\n",
    "from numpy import dot as dot\n",
    "import math\n",
    "from scipy.optimize import linprog"
   ]
  },
  {
   "cell_type": "code",
   "execution_count": 34,
   "metadata": {},
   "outputs": [],
   "source": [
    "B = []\n",
    "B.append([\n",
    "        [2, 1, 0, 4, 0, 3, 0, 0],\n",
    "        [0, 4, 0, 3, 1, 1, 3, 2],\n",
    "        [1, 3, 0, 5, 0, 4, 0, 4]\n",
    "    ])\n",
    "B.append([\n",
    "        [0,     0,   0.5,   2.5,   1,   0,    -2.5, -2],\n",
    "        [0.5,   0.5, -0.5,  0,     0.5, -0.5, -0.5, -0.5],\n",
    "        [0.5,   0.5, 0.5,   0,     0.5, 1,     2.5, 4]\n",
    "    ])\n",
    "B.append([\n",
    "        [1, 2, -1.5, 3, -2.5, 0, -1, -0.5],\n",
    "        [-1.5, -0.5, -1, 2.5, 3.5, 3, -1.5, -0.5],\n",
    "        [1.5, 2.5, 1, 1, 2.5, 1.5, 3, 0]\n",
    "    ])\n",
    "B.append([\n",
    "        [0.75, 0.5, -1, 0.25, 0.25, 0, 0.25, 0.75],\n",
    "        [-1, 1, 1, 0.75, 0.75, 0.5, 1, -0.75], \n",
    "        [0.5, -0.25, 0.5, 0.75, 0.5, 1.25, -0.75, -0.25],\n",
    "    ])\n",
    "B.append([\n",
    "        [1.5, -1.5, -1.5, 2, 1.5, 0, 0.5, -1.5],\n",
    "        [-0.5, -2.5, -0.5, -1, -2.5, 2.5, 1, 2],\n",
    "        [-2.5, 1, -2, 1.5, -2.5, 0.5, 2.5, -2.5]\n",
    "    ])\n",
    "B.append([\n",
    "        [1, 0.25, -0.5, 1.25, 1.25, -0.5, 0.25, -0.75],\n",
    "        [-1, -0.75, -0.75, 0.5, -0.25, 1.25, 0.25, -0.5],\n",
    "        [0, 0.75, 0.5, -0.5, -1, 1, -1, 1]\n",
    "    ])\n",
    "B = [np.array(np.array([b_i for b_i in b])) for b in B]"
   ]
  },
  {
   "cell_type": "code",
   "execution_count": 35,
   "metadata": {},
   "outputs": [],
   "source": [
    "c = np.array([\n",
    "        [-1, -1, -1, -1, -2, 0, -2, -3],\n",
    "        [0, 60, 80, 0, 0, 0, 40, 0],\n",
    "        [2, 0, 3, 0, 2, 0, 3, 0],\n",
    "        [0, 0, 80, 0, 0, 0, 0, 0],\n",
    "        [0, -2, 1, 2, 0, 0, -2, 1],\n",
    "        [-4, -2, 6, 0, 4, -2, 60, 2]\n",
    "    ])\n",
    "\n",
    "a = np.array(\n",
    "    [-51.75, -436.75, -33.7813, -303.3750, -41.75]\n",
    ")\n",
    "\n",
    "\n",
    "x_0 = np.array([1, 0, 0, 2, 4, 2, 0, 0])"
   ]
  },
  {
   "cell_type": "code",
   "execution_count": 36,
   "metadata": {},
   "outputs": [],
   "source": [
    "def g_i(i, x):  return 0.5 * dot(dot(x, B[i].T), dot(x, B[i].T)) + dot(c[i], x) + a[i - 1]\n",
    "\n",
    "\n",
    "def f(x): return 0.5 * dot(dot(x, B[0].T), dot(x, B[0].T)) + dot(c[0], x)\n",
    "    \n",
    "    \n",
    "def get_I_0(g_values):\n",
    "    res = []\n",
    "    for i in range(len(g_values)):\n",
    "        if abs(g_values[i]) < 10e-5:\n",
    "            res.append(i + 1)\n",
    "            \n",
    "            \n",
    "    return res\n",
    "\n",
    "def get_J_0(x):\n",
    "    res = []\n",
    "    for i in range(len(x)):\n",
    "        if x[i] == 0:\n",
    "            res.append(i + 1)\n",
    "            \n",
    "    return res"
   ]
  },
  {
   "cell_type": "code",
   "execution_count": 37,
   "metadata": {},
   "outputs": [],
   "source": [
    "g_values = [g_i(i, x_0) for i in range(1, 6)]\n",
    "I_0 = get_I_0(g_values)\n",
    "J_0 = get_J_0(x_0)"
   ]
  },
  {
   "cell_type": "code",
   "execution_count": 38,
   "metadata": {},
   "outputs": [],
   "source": [
    "def mdot(a, b, c): return dot(a, dot(b, c))"
   ]
  },
  {
   "cell_type": "code",
   "execution_count": 39,
   "metadata": {},
   "outputs": [],
   "source": [
    "def derive_f(x): return dot(dot(x, B[0].T), B[0]) + c[0]\n",
    "\n",
    "\n",
    "def derive_g_i(x, i): return dot(dot(x, B[i].T), B[i]) + c[i]"
   ]
  },
  {
   "cell_type": "code",
   "execution_count": 40,
   "metadata": {},
   "outputs": [],
   "source": [
    "d_fx = derive_f(x_0)"
   ]
  },
  {
   "cell_type": "code",
   "execution_count": 41,
   "metadata": {},
   "outputs": [
    {
     "data": {
      "text/plain": [
       "369.5"
      ]
     },
     "execution_count": 41,
     "metadata": {},
     "output_type": "execute_result"
    }
   ],
   "source": [
    "f(x_0)"
   ]
  },
  {
   "cell_type": "code",
   "execution_count": 42,
   "metadata": {},
   "outputs": [
    {
     "data": {
      "text/plain": [
       "369.5"
      ]
     },
     "execution_count": 42,
     "metadata": {},
     "output_type": "execute_result"
    }
   ],
   "source": [
    "f(x_0)"
   ]
  },
  {
   "cell_type": "code",
   "execution_count": 43,
   "metadata": {},
   "outputs": [],
   "source": [
    "costs = derive_f(x_0)\n",
    "A_ub = [derive_g_i(x_0, i) for i in I_0]\n",
    "b_ub = [0] * len(x_0)\n",
    "lb = [-1] * len(x_0)\n",
    "ub = [1] * len(x_0)\n",
    "l = linprog(c=costs, A_ub=A_ub, b_ub=[0, 0, 0], bounds=list(zip(lb, ub))).x"
   ]
  },
  {
   "cell_type": "code",
   "execution_count": null,
   "metadata": {},
   "outputs": [],
   "source": [
    "x_sub = np.array([0] * len(x_0))\n",
    "delta_x = x_sub - x_0"
   ]
  },
  {
   "cell_type": "code",
   "execution_count": null,
   "metadata": {},
   "outputs": [],
   "source": [
    "dot(l, d_fx)  + dot(d_fx, delta_x)"
   ]
  },
  {
   "cell_type": "code",
   "execution_count": null,
   "metadata": {},
   "outputs": [],
   "source": [
    "alhpa = 1"
   ]
  },
  {
   "cell_type": "code",
   "execution_count": null,
   "metadata": {},
   "outputs": [],
   "source": [
    "def x_t(t, x_0, alpha, delta_x): return x_0 + t([1] * len(x_0) + alhpa * )"
   ]
  },
  {
   "cell_type": "code",
   "execution_count": null,
   "metadata": {},
   "outputs": [],
   "source": []
  },
  {
   "cell_type": "code",
   "execution_count": null,
   "metadata": {},
   "outputs": [],
   "source": []
  }
 ],
 "metadata": {
  "kernelspec": {
   "display_name": "Python 3",
   "language": "python",
   "name": "python3"
  },
  "language_info": {
   "codemirror_mode": {
    "name": "ipython",
    "version": 3
   },
   "file_extension": ".py",
   "mimetype": "text/x-python",
   "name": "python",
   "nbconvert_exporter": "python",
   "pygments_lexer": "ipython3",
   "version": "3.6.9"
  }
 },
 "nbformat": 4,
 "nbformat_minor": 2
}
