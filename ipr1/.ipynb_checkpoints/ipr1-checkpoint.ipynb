{
 "cells": [
  {
   "cell_type": "code",
   "execution_count": 181,
   "metadata": {},
   "outputs": [],
   "source": [
    "import numpy as np"
   ]
  },
  {
   "cell_type": "markdown",
   "metadata": {},
   "source": [
    "## Задание 2"
   ]
  },
  {
   "cell_type": "code",
   "execution_count": 182,
   "metadata": {},
   "outputs": [],
   "source": [
    "A = np.array([\n",
    "        [-2, -1, 1, -7, 1, 0, 0, 2],\n",
    "        [-4, 2, 1, 0, 5, 1, -1, 5],\n",
    "        [1, 1, 0, 1, 4, 3, 1, 1]\n",
    "    ])\n",
    "\n",
    "b = [-2, 8, -2]\n",
    "c = [12, -2, -6, 20, -18, -5, -7, -20]\n",
    "y_0 = [-3, -2, -1]\n",
    "J_B = [1, 3, 5]\n",
    "delta = np.dot(y_0, A) - c\n",
    "m, n = A.shape\n",
    "optimal_solution = None"
   ]
  },
  {
   "cell_type": "code",
   "execution_count": 184,
   "metadata": {},
   "outputs": [],
   "source": [
    "class OptFounException(Exception):\n",
    "    def __init__(self, opt_x):\n",
    "        self.opt_x = opt_x\n",
    "        \n",
    "        \n",
    "        \n",
    "class IncompatibleRestrictionsException(Exception):\n",
    "    pass"
   ]
  },
  {
   "cell_type": "code",
   "execution_count": 185,
   "metadata": {},
   "outputs": [],
   "source": [
    "def find_get_el_ind(arr, el):\n",
    "    for i in range(len(arr)):\n",
    "        if arr[i] == el:\n",
    "            return i\n",
    "        \n",
    "    return -1\n",
    "\n",
    "\n",
    "def get_sigma_da(mu, delta, J_N):\n",
    "    sigma = [math.inf] * len(delta)\n",
    "    print(f'mu[J_N]: {mu[J_N]}')\n",
    "    if np.all(mu[J_N] >= 0):\n",
    "        raise IncompatibleRestrictionsException\n",
    "    \n",
    "    \n",
    "    for i in J_N:\n",
    "        if mu[i] < 0:\n",
    "            sigma[i] = -delta[i] / mu[i]\n",
    "    \n",
    "    \n",
    "    min_sigma = min(sigma)\n",
    "    return min_sigma, np.where(sigma == min(sigma))[0][0]\n",
    "\n",
    "\n",
    "def get_J_N(J_B): return list(set(range(n)) - set(J_B))\n",
    "\n",
    "\n",
    "def check_optimality(y_0, chi_B):\n",
    "    if len(np.where(chi_B < 0)[0]) == 0:\n",
    "        optimal_solution = chi_B\n",
    "        raise OptFounException(chi_B)"
   ]
  },
  {
   "cell_type": "code",
   "execution_count": 186,
   "metadata": {},
   "outputs": [],
   "source": [
    "def dual_sm_iteration(y_0, J_B, delta):\n",
    "    print(f'y_0: {y_0}')\n",
    "    J_N = get_J_N(J_B)\n",
    "    A_B = A[:, J_B]\n",
    "    B = np.linalg.inv(A_B)\n",
    "    chi_B = np.dot(B, b)\n",
    "    \n",
    "    check_optimality(y_0, chi_B)\n",
    "    \n",
    "    k = np.where(chi_B < 0)[0][0]\n",
    "    j_k =  J_B[k] # ind_B for which chi_i < 0\n",
    "    mu = np.dot(B[k, :], A)\n",
    "    \n",
    "    print(f'J_B: {J_B}')\n",
    "    print(f'A_B: \\n {A_B}', end='\\n\\n')\n",
    "    print(f'B: \\n {B}', end='\\n\\n')\n",
    "    print(f'k: {k}')\n",
    "    print(f'j_k: {j_k}')\n",
    "    print(f'mu: {mu}')\n",
    "    \n",
    "    sigma_0, new_j_k = get_sigma_da(mu, delta, J_N)\n",
    "    y_new = y_0 + sigma_0 * np.dot(mu[J_B], B)\n",
    "    delta_new = delta + sigma_0 * mu\n",
    "    J_B_new = list(set(J_B) - set([j_k])) + [new_j_k]\n",
    "    \n",
    "    print(f'sigma_0: {sigma_0}')\n",
    "    print(f'y_new: {y_new}')\n",
    "    print(f'delta_new: {delta_new}')\n",
    "    print(f'J_B_new: {J_B_new}')\n",
    "    print('_' * 100)\n",
    "    return y_new, J_B_new, delta_new"
   ]
  },
  {
   "cell_type": "markdown",
   "metadata": {},
   "source": [
    "### Итерации алгоритма"
   ]
  },
  {
   "cell_type": "code",
   "execution_count": 187,
   "metadata": {
    "scrolled": true
   },
   "outputs": [
    {
     "name": "stdout",
     "output_type": "stream",
     "text": [
      "y_0: [-3, -2, -1]\n",
      "J_B: [1, 3, 5]\n",
      "A_B: \n",
      " [[-1 -7  0]\n",
      " [ 2  0  1]\n",
      " [ 1  1  3]]\n",
      "\n",
      "B: \n",
      " [[-0.02777778  0.58333333 -0.19444444]\n",
      " [-0.13888889 -0.08333333  0.02777778]\n",
      " [ 0.05555556 -0.16666667  0.38888889]]\n",
      "\n",
      "k: 1\n",
      "j_k: 3\n",
      "mu: [ 6.38888889e-01 -1.04083409e-17 -2.22222222e-01  1.00000000e+00\n",
      " -4.44444444e-01  1.38777878e-17  1.11111111e-01 -6.66666667e-01]\n",
      "mu[J_N]: [ 0.63888889 -0.22222222 -0.44444444  0.11111111 -0.66666667]\n",
      "sigma_0: 2.2500000000000004\n",
      "y_new: [-3.3125 -2.1875 -0.9375]\n",
      "delta_new: [ 2.43750000e+00 -2.34187669e-17  5.00000000e-01  2.25000000e+00\n",
      "  0.00000000e+00  3.12250226e-17  8.25000000e+00  1.50000000e+00]\n",
      "J_B_new: [1, 5, 4]\n",
      "____________________________________________________________________________________________________\n",
      "y_0: [-3.3125 -2.1875 -0.9375]\n",
      "J_B: [1, 5, 4]\n",
      "A_B: \n",
      " [[-1  0  1]\n",
      " [ 2  1  5]\n",
      " [ 1  3  4]]\n",
      "\n",
      "B: \n",
      " [[-0.6875  0.1875 -0.0625]\n",
      " [-0.1875 -0.3125  0.4375]\n",
      " [ 0.3125  0.1875 -0.0625]]\n",
      "\n",
      "k: 1\n",
      "j_k: 5\n",
      "mu: [ 2.0625  0.     -0.5     1.75    0.      1.      0.75   -1.5   ]\n",
      "mu[J_N]: [ 2.0625 -0.5     1.75    0.75   -1.5   ]\n",
      "sigma_0: 0.9999999999999998\n",
      "y_new: [-3.5 -2.5 -0.5]\n",
      "delta_new: [ 4.50000000e+00 -2.34187669e-17  0.00000000e+00  4.00000000e+00\n",
      "  0.00000000e+00  1.00000000e+00  9.00000000e+00  2.22044605e-16]\n",
      "J_B_new: [1, 4, 2]\n",
      "____________________________________________________________________________________________________\n",
      "y_0: [-3.5 -2.5 -0.5]\n",
      "J_B: [1, 4, 2]\n",
      "A_B: \n",
      " [[-1  1  1]\n",
      " [ 2  5  1]\n",
      " [ 1  4  0]]\n",
      "\n",
      "B: \n",
      " [[-0.5    0.5   -0.5  ]\n",
      " [ 0.125 -0.125  0.375]\n",
      " [ 0.375  0.625 -0.875]]\n",
      "\n",
      "k: 1\n",
      "j_k: 4\n",
      "mu: [ 0.625  0.     0.    -0.5    1.     1.     0.5    0.   ]\n",
      "mu[J_N]: [ 0.625 -0.5    1.     0.5    0.   ]\n",
      "sigma_0: 7.999999999999999\n",
      "y_new: [-2.5 -3.5  2.5]\n",
      "delta_new: [ 9.50000000e+00 -2.34187669e-17  0.00000000e+00  0.00000000e+00\n",
      "  8.00000000e+00  9.00000000e+00  1.30000000e+01  2.22044605e-16]\n",
      "J_B_new: [1, 2, 3]\n",
      "____________________________________________________________________________________________________\n",
      "y_0: [-2.5 -3.5  2.5]\n",
      "J_B: [1, 2, 3]\n",
      "A_B: \n",
      " [[-1  1 -7]\n",
      " [ 2  1  0]\n",
      " [ 1  0  1]]\n",
      "\n",
      "B: \n",
      " [[ 0.25 -0.25  1.75]\n",
      " [-0.5   1.5  -3.5 ]\n",
      " [-0.25  0.25 -0.75]]\n",
      "\n",
      "k: 0\n",
      "j_k: 1\n",
      "mu: [ 2.25000000e+00  1.00000000e+00 -1.11022302e-16 -4.44089210e-16\n",
      "  6.00000000e+00  5.00000000e+00  2.00000000e+00  1.00000000e+00]\n",
      "mu[J_N]: [2.25 6.   5.   2.   1.  ]\n",
      "Restrictions are incompatible\n"
     ]
    }
   ],
   "source": [
    "new_y, new_J_B, new_delta = dual_sm_iteration(y_0, J_B, delta)\n",
    "try:\n",
    "    while True: \n",
    "        new_y, new_J_B, new_delta = dual_sm_iteration(new_y, new_J_B, new_delta)\n",
    "except OptFounException as e:\n",
    "    print(e.opt_x)\n",
    "except IncompatibleRestrictionsException:\n",
    "    print('Restrictions are incompatible')\n",
    "    "
   ]
  },
  {
   "cell_type": "markdown",
   "metadata": {},
   "source": [
    "### Задание 3"
   ]
  },
  {
   "cell_type": "code",
   "execution_count": 169,
   "metadata": {},
   "outputs": [],
   "source": [
    "c = np.array([1, 4, -9, 6, -5, 8, 3, -7, 1])\n",
    "b = np.array([14, 23, 6])\n",
    "A = np.array([\n",
    "        [0, 1, -4, 5, 0, -3, -5, 0, 1],\n",
    "        [1, -1, 0, 1, 0, 8, 1, -2, 1],\n",
    "        [0, 6, -1, 0, -2, 3, 8, 1, 1]\n",
    "    ]\n",
    ")\n",
    "x_0 = np.array([3, 0, 0, 4, 0, 2, 0, 0, 0])\n",
    "J_B = np.array([0, 3, 5])\n",
    "u_0 = np.array([1, 1, 1])"
   ]
  },
  {
   "cell_type": "code",
   "execution_count": 170,
   "metadata": {},
   "outputs": [],
   "source": [
    "def get_phi_sense(z, x_B):\n",
    "    phi = [math.inf] * len(z)\n",
    "    for i in range(len(z)):\n",
    "        if z[i] < 0:\n",
    "            phi[i] = - x_B[i] / z[i]\n",
    "            \n",
    "    return phi\n",
    "\n",
    "\n",
    "def get_new_x_0_sense(x_0, phi_0, z, J_B, j_s):\n",
    "    new_x_0 = np.array(x_0)\n",
    "    new_x_0[j_s] = 0\n",
    "    for i in range(len(J_B)):\n",
    "        ind = J_B[i]\n",
    "        x_0[ind] += phi_0 * z[i]\n",
    "        \n",
    "    return new_x_0\n"
   ]
  },
  {
   "cell_type": "code",
   "execution_count": 171,
   "metadata": {},
   "outputs": [
    {
     "name": "stdout",
     "output_type": "stream",
     "text": [
      "z: [-2.86666667  0.2         0.33333333]\n",
      "j_s: 0\n",
      "phi: [1.0465116279069768, inf, inf]\n",
      "phi_0: 1.0465116279069768\n",
      "new_x_0: [0 0 0 4 0 2 0 0 0]\n"
     ]
    }
   ],
   "source": [
    "J_N = get_J_N(J_B)\n",
    "A_B = A[:, J_B]\n",
    "A_new = A[[0, 1]]\n",
    "z = np.dot(np.linalg.inv(A_B), [0, 0, 1])\n",
    "j_s = J_B[np.where(z < 0)[0][0]]\n",
    "phi = get_phi_sense(z, x_0[J_B])\n",
    "phi_0 = min(phi)\n",
    "new_x_0 = get_new_x_0_sense(x_0, phi_0, z, J_B, j_s)\n",
    "\n",
    "\n",
    "print(f'z: {z}')\n",
    "print(f'j_s: {j_s}')\n",
    "print(f'phi: {phi}')\n",
    "print(f'phi_0: {phi_0}')\n",
    "print(f'new_x_0: {new_x_0}')"
   ]
  },
  {
   "cell_type": "code",
   "execution_count": 175,
   "metadata": {},
   "outputs": [
    {
     "data": {
      "text/plain": [
       "False"
      ]
     },
     "execution_count": 175,
     "metadata": {},
     "output_type": "execute_result"
    }
   ],
   "source": [
    "-1.11022302e-16  == 0"
   ]
  },
  {
   "cell_type": "code",
   "execution_count": 177,
   "metadata": {},
   "outputs": [
    {
     "data": {
      "text/plain": [
       "array([False])"
      ]
     },
     "execution_count": 177,
     "metadata": {},
     "output_type": "execute_result"
    }
   ],
   "source": [
    "np.array([-1.11022302e-16 ]) == 0"
   ]
  },
  {
   "cell_type": "code",
   "execution_count": null,
   "metadata": {},
   "outputs": [],
   "source": []
  }
 ],
 "metadata": {
  "kernelspec": {
   "display_name": "Python 3",
   "language": "python",
   "name": "python3"
  },
  "language_info": {
   "codemirror_mode": {
    "name": "ipython",
    "version": 3
   },
   "file_extension": ".py",
   "mimetype": "text/x-python",
   "name": "python",
   "nbconvert_exporter": "python",
   "pygments_lexer": "ipython3",
   "version": "3.6.9"
  }
 },
 "nbformat": 4,
 "nbformat_minor": 2
}
