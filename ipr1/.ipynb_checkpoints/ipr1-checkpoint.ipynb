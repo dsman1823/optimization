{
 "cells": [
  {
   "cell_type": "code",
   "execution_count": 80,
   "metadata": {},
   "outputs": [],
   "source": [
    "import numpy as np\n",
    "import math"
   ]
  },
  {
   "cell_type": "code",
   "execution_count": 81,
   "metadata": {},
   "outputs": [],
   "source": [
    "A = np.array([\n",
    "        [-2, -1, 1, -7, 1, 0, 0, 2],\n",
    "        [-4, 2, 1, 0, 5, 1, -1, 5],\n",
    "        [1, 1, 0, 1, 4, 3, 1, 1]\n",
    "    ])\n",
    "\n",
    "b = [-2, 8, -2]\n",
    "c = [12, -2, -6, 20, -18, -5, -7, -20]\n",
    "y_0 = [-3, -2, -1]\n",
    "J_B = [2, 4, 6]\n",
    "delta = np.dot(y_0, A) - c\n",
    "m, n = A.shape\n",
    "optimal_solution = None"
   ]
  },
  {
   "cell_type": "code",
   "execution_count": 82,
   "metadata": {},
   "outputs": [],
   "source": [
    "class OptFounException(Exception):\n",
    "    def __init__(self, opt_x):\n",
    "        self.opt_x = opt_x\n",
    "        \n",
    "        \n",
    "        \n",
    "class IncompatibleRestrictionsException(Exception):\n",
    "    pass"
   ]
  },
  {
   "cell_type": "code",
   "execution_count": 83,
   "metadata": {},
   "outputs": [],
   "source": [
    "def find_get_el_ind(arr, el):\n",
    "    for i in range(len(arr)):\n",
    "        if arr[i] == el:\n",
    "            return i\n",
    "        \n",
    "    return -1\n",
    "\n",
    "\n",
    "def get_sigma_da(mu, delta, J_N):\n",
    "    sigma = [math.inf] * len(delta)\n",
    "    \n",
    "    if np.all(mu[J_N] >= 0):\n",
    "        raise IncompatibleRestrictionsException\n",
    "    \n",
    "    \n",
    "    for i in J_N:\n",
    "        if mu[i] < 0:\n",
    "            sigma[i] = -delta[i] / mu[i]\n",
    "    \n",
    "    min_sigma = min(sigma)\n",
    "    return min_sigma, np.where(sigma == min(sigma))[0][0]\n",
    "\n",
    "\n",
    "def get_J_N(J_B): return list(set(range(n)) - set(J_B))\n",
    "\n",
    "\n",
    "def check_optimality(y_0, chi_B):\n",
    "    if len(np.where(chi_B < 0)[0]) == 0:\n",
    "        optimal_solution = chi_B\n",
    "        raise OptFounException(chi_B)"
   ]
  },
  {
   "cell_type": "code",
   "execution_count": 84,
   "metadata": {},
   "outputs": [],
   "source": [
    "def dual_sm_iteration(y_0, J_B, delta):\n",
    "    J_N = get_J_N(J_B)\n",
    "    A_B = A[:, J_B]\n",
    "    B = np.linalg.inv(A_B)\n",
    "    chi_B = np.dot(B, b)\n",
    "    \n",
    "    check_optimality(y_0, chi_B)\n",
    "    \n",
    "    k = np.where(chi_B < 0)[0][0]\n",
    "    j_k =  J_B[k] # ind_B for which chi_i < 0\n",
    "    mu = np.dot(B[k, :], A)\n",
    "    \n",
    "    sigma_0, new_j_k = get_sigma_da(mu, delta, J_N)\n",
    "    y_new = y_0 + sigma_0 * np.dot(mu[J_B], B)\n",
    "    delta_new = delta + sigma_0 * mu\n",
    "    J_B_new = list(set(J_B) - set([j_k])) + [new_j_k]\n",
    "    return y_new, J_B_new, delta_new"
   ]
  },
  {
   "cell_type": "code",
   "execution_count": 85,
   "metadata": {},
   "outputs": [],
   "source": [
    "new_y, new_J_B, new_delta = dual_sm_iteration(y_0, J_B, delta)"
   ]
  },
  {
   "cell_type": "code",
   "execution_count": 86,
   "metadata": {
    "scrolled": true
   },
   "outputs": [
    {
     "name": "stdout",
     "output_type": "stream",
     "text": [
      "Restrictions are incompatible\n"
     ]
    }
   ],
   "source": [
    "try:\n",
    "    while True: \n",
    "        new_y, new_J_B, new_delta = dual_sm_iteration(new_y, new_J_B, new_delta)\n",
    "except OptFounException as e:\n",
    "    print(e.opt_x)\n",
    "except IncompatibleRestrictionsException:\n",
    "    print('Restrictions are incompatible')\n",
    "    "
   ]
  },
  {
   "cell_type": "markdown",
   "metadata": {},
   "source": [
    "### Задание 3"
   ]
  },
  {
   "cell_type": "code",
   "execution_count": 87,
   "metadata": {},
   "outputs": [],
   "source": [
    "A = np.array([\n",
    "        [0, 1, 4, 1, 0, -3, 5, 0],\n",
    "        [1, -1, 0, 1, 0, 0, 1, 0],\n",
    "        [0, 7, -1, 0, -1, 3, 8, 0]\n",
    "    ])\n",
    "c = np.array([-5, -2, 3, -4, -6, 0, -1, -5])\n",
    "b = np.array([6, 10, -2])\n",
    "x_0 = np.array([10, 0, 1.5, 0, 0.5, 0, 0, 0])\n",
    "J_B = np.array([0, 2, 4])\n",
    "u_0 = np.dot(c[J_B], np.linalg.inv(A[:, J_B]))\n",
    "delta = np.dot(u_0, A) - c"
   ]
  },
  {
   "cell_type": "code",
   "execution_count": 88,
   "metadata": {},
   "outputs": [],
   "source": [
    "c = np.array([1, 4, -9, 6, -5, 8, 3, -7, 1])\n",
    "b = np.array([14, 23, 6])\n",
    "A = np.array([\n",
    "        [0, 1, -4, 5, 0, -3, -5, 0, 1],\n",
    "        [1, -1, 0, 1, 0, 8, 1, -2, 1],\n",
    "        [0, 6, -1, 0, -2, 3, 8, 1, 1]\n",
    "    ]\n",
    ")\n",
    "x_0 = np.array([3, 0, 0, 4, 0, 2, 0, 0, 0])\n",
    "J_B = np.array([0, 3, 5])\n",
    "u_0 = np.array([1, 1, 1])"
   ]
  },
  {
   "cell_type": "code",
   "execution_count": 89,
   "metadata": {},
   "outputs": [],
   "source": [
    "def get_phi_sense(z, x_B):\n",
    "    phi = [math.inf] * len(z)\n",
    "    for i in range(len(z)):\n",
    "        if z[i] < 0:\n",
    "            phi[i] = - x_B[i] / z[i]\n",
    "            \n",
    "    return phi\n",
    "\n",
    "\n",
    "def get_new_x_0_sense(x_0, phi_0, z, J_B, j_s):\n",
    "    new_x_0 = np.array(x_0)\n",
    "    new_x_0[j_s] = 0\n",
    "    for i in range(len(J_B)):\n",
    "        ind = J_B[i]\n",
    "        x_0[ind] += phi_0 * z[i]\n",
    "        \n",
    "    return new_x_0\n"
   ]
  },
  {
   "cell_type": "code",
   "execution_count": 90,
   "metadata": {},
   "outputs": [],
   "source": [
    "J_N = get_J_N(J_B)\n",
    "A_B = A[:, J_B]\n",
    "A_new = A[[0, 1]]\n",
    "z = np.dot(np.linalg.inv(A_B), [0, 0, 1])\n",
    "j_s = J_B[np.where(z < 0)[0][0]]\n",
    "phi = get_phi_sense(z, x_0[J_B])\n",
    "phi_0 = min(phi)\n",
    "new_x_0 = get_new_x_0_sense(x_0, phi_0, z, J_B, j_s)"
   ]
  },
  {
   "cell_type": "code",
   "execution_count": 91,
   "metadata": {},
   "outputs": [
    {
     "data": {
      "text/plain": [
       "array([0, 0, 0, 4, 0, 2, 0, 0, 0])"
      ]
     },
     "execution_count": 91,
     "metadata": {},
     "output_type": "execute_result"
    }
   ],
   "source": [
    "new_x_0"
   ]
  },
  {
   "cell_type": "code",
   "execution_count": null,
   "metadata": {},
   "outputs": [],
   "source": []
  }
 ],
 "metadata": {
  "kernelspec": {
   "display_name": "Python 3",
   "language": "python",
   "name": "python3"
  },
  "language_info": {
   "codemirror_mode": {
    "name": "ipython",
    "version": 3
   },
   "file_extension": ".py",
   "mimetype": "text/x-python",
   "name": "python",
   "nbconvert_exporter": "python",
   "pygments_lexer": "ipython3",
   "version": "3.6.9"
  }
 },
 "nbformat": 4,
 "nbformat_minor": 2
}
