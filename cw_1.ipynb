{
 "cells": [
  {
   "cell_type": "code",
   "execution_count": 1,
   "metadata": {},
   "outputs": [],
   "source": [
    "import numpy as np\n",
    "import math\n",
    "import random\n",
    "import simplex"
   ]
  },
  {
   "cell_type": "markdown",
   "metadata": {},
   "source": [
    "## 1.2"
   ]
  },
  {
   "cell_type": "code",
   "execution_count": 50,
   "metadata": {},
   "outputs": [],
   "source": [
    "A = np.array([\n",
    "        [0, 1, 4, 1, 0, -3, 5, 0],\n",
    "        [1, -1, 0, 1, 0, 0, 1, 0],\n",
    "        [0, 7, -1, 0, -1, 3, 8, 0],\n",
    "        [1, 1, 1, 1, 0, 3, -3, 1]\n",
    "    ]\n",
    ")\n",
    "c = np.array([-5, -2, 3, -4, -6, 0, -1, -5])\n",
    "b = np.array([6, 10, -2, 15])\n",
    "m, n = A.shape\n",
    "x_0 = np.array([4, 0, 0, 6, 2, 0, 0, 5])"
   ]
  },
  {
   "cell_type": "code",
   "execution_count": 55,
   "metadata": {},
   "outputs": [],
   "source": [
    "A = np.array([\n",
    "        [2., -1., 1., -7.5, 0., 0., 0., 2.],\n",
    "        [4., 2., -1., 0., 1., 2., -1, -4.],\n",
    "        [1., -1., 1., -1., 0, 3., 1., 1.],\n",
    "    ]\n",
    ")\n",
    "\n",
    "c = np.array([-6., -9., -5., 2., -6., 0., 1., 3.])\n",
    "b = np.array([14., 14., 10.])\n",
    "m, n = A.shape\n",
    "x_0 = np.array([4., 0., 6., 0., 4., 0., 0., 0.])"
   ]
  },
  {
   "cell_type": "code",
   "execution_count": 56,
   "metadata": {},
   "outputs": [],
   "source": [
    "def get_J_B(x):\n",
    "    J_B = []\n",
    "    for i in range(0, len(x)):\n",
    "        if x[i] != 0:\n",
    "            J_B.append(i)\n",
    "    return J_B\n",
    "\n",
    "\n",
    "def get_J_N(J_B):\n",
    "    return list(set(range(0, n)) - set(J_B))\n",
    "\n",
    "\n",
    "def is_optimal_solution(delta):\n",
    "    return True not in (delta < 0)\n",
    "\n",
    "\n",
    "def get_phi(x_B, z):\n",
    "    phi = []\n",
    "    for i in range(len(x_B)):\n",
    "        if z[i] <= 0:\n",
    "            phi.append(math.inf)\n",
    "        else:\n",
    "            phi.append(x_B[i] / z[i])\n",
    "            \n",
    "    return np.array(phi)\n",
    "\n",
    "\n",
    "def get_new_x_0(phi, J_B, x_B, z, j_0):\n",
    "    phi_0 = min(phi)\n",
    "    \n",
    "    print(f'phi_0: {phi_0}')\n",
    "    \n",
    "    delta_x_B = np.array([0.] * 8)\n",
    "    for i in range(m):\n",
    "        ind = J_B[i]\n",
    "        delta_x_B[ind] = x_B[i] - phi_0 * z[i]\n",
    "    \n",
    "    delta_x_B[j_0] = phi_0\n",
    "    \n",
    "    return delta_x_B\n",
    "\n",
    "\n",
    "def get_j_0(delta):\n",
    "    otric = np.where(delta < 0)[0]\n",
    "    return random.choice(otric)\n",
    "\n",
    "def make_iteration(x_0):\n",
    "    J_B = get_J_B(x_0)\n",
    "    J_N = get_J_N(J_B)\n",
    "\n",
    "    A_B = A[:, J_B]\n",
    "    A_N = A[:, J_N]\n",
    "    B = np.linalg.inv(A_B)\n",
    "\n",
    "    c_B = c[J_B]\n",
    "    c_N = c[J_N]\n",
    "\n",
    "    u = np.dot(c_B, B)\n",
    "    delta = np.dot(u, A) - c\n",
    "    \n",
    "    if is_optimal_solution(delta):\n",
    "        raise ValueError(f'x_0: {x_0} is optimal solution')\n",
    "    \n",
    "    j_0 = get_j_0(delta)\n",
    "    z = np.dot(B, A[:, j_0])\n",
    "\n",
    "    x_B = x_0[J_B]\n",
    "    phi = get_phi(x_B, z)\n",
    "    \n",
    "    print(f'x_0: {x_0}')\n",
    "    print(f'J_B: {J_B} ')\n",
    "    print(f'J_N: {J_N} ')\n",
    "    print(f'A_B: \\n {A_B} ')\n",
    "    print(f'A_N: \\n {A_N} ')\n",
    "    print(f'c_B: {c_B} ')\n",
    "    print(f'c_N: {c_N} ')\n",
    "    print(f'u: {u} ')\n",
    "    print(f'delta: {delta} ')\n",
    "    print(f'j_0: {j_0} ')\n",
    "    print(f'z: {z}')\n",
    "    \n",
    "    res = get_new_x_0(phi, J_B, x_B, z, j_0)\n",
    "    \n",
    "    print(f'x_new: {res}')\n",
    "    \n",
    "    return res"
   ]
  },
  {
   "cell_type": "markdown",
   "metadata": {},
   "source": [
    "## 1.3"
   ]
  },
  {
   "cell_type": "code",
   "execution_count": 80,
   "metadata": {},
   "outputs": [],
   "source": [
    "\n"
   ]
  },
  {
   "cell_type": "code",
   "execution_count": 81,
   "metadata": {},
   "outputs": [],
   "source": [
    "import warnings\n",
    "warnings.filterwarnings(\"ignore\")"
   ]
  },
  {
   "cell_type": "code",
   "execution_count": 82,
   "metadata": {},
   "outputs": [
    {
     "name": "stdout",
     "output_type": "stream",
     "text": [
      "u: [ 0.  1.  5. 14. 13.]\n",
      "v: [  2.  -3.   0.  -5. -13.]\n",
      "S matrix: \n",
      "[[nan  9.  8.  2. 13.]\n",
      " [nan  4. 11.  8. 12.]\n",
      " [nan nan nan  7.  8.]\n",
      " [-7. -9. nan nan -1.]\n",
      " [-7. -3. -5. nan nan]]\n",
      "\n",
      "Cycle path: [(3, 1), (3, 2), (2, 2), (2, 1)]\n",
      "\n",
      "phi: 5.0\n",
      "X: \n",
      " [[13. nan nan nan nan]\n",
      " [ 5. nan nan nan nan]\n",
      " [ 2. nan  5. nan nan]\n",
      " [nan  5.  1.  3. nan]\n",
      " [nan nan nan  8.  2.]]\n",
      "\n",
      "____________________________________________________________\n",
      "u: [ 0.  1.  5. 14. 13.]\n",
      "v: [  2. -12.   0.  -5. -13.]\n",
      "S matrix: \n",
      "[[nan 18.  8.  2. 13.]\n",
      " [nan 13. 11.  8. 12.]\n",
      " [nan  9. nan  7.  8.]\n",
      " [-7. nan nan nan -1.]\n",
      " [-7.  6. -5. nan nan]]\n",
      "\n",
      "Cycle path: [(3, 0), (2, 0), (2, 2), (3, 2)]\n",
      "\n",
      "phi: 1.0\n",
      "X: \n",
      " [[13. nan nan nan nan]\n",
      " [ 5. nan nan nan nan]\n",
      " [ 1. nan  6. nan nan]\n",
      " [ 1.  5. nan  3. nan]\n",
      " [nan nan nan  8.  2.]]\n",
      "\n",
      "____________________________________________________________\n",
      "u: [0. 1. 5. 7. 6.]\n",
      "v: [ 2. -5.  0.  2. -6.]\n",
      "S matrix: \n",
      "[[nan 11.  8. -5.  6.]\n",
      " [nan  6. 11.  1.  5.]\n",
      " [nan  2. nan  0.  1.]\n",
      " [nan nan  7. nan -1.]\n",
      " [ 0.  6.  2. nan nan]]\n",
      "\n",
      "Cycle path: [(0, 3), (0, 0), (3, 0), (3, 3)]\n",
      "\n",
      "phi: 3.0\n",
      "X: \n",
      " [[10. nan nan  3. nan]\n",
      " [ 5. nan nan nan nan]\n",
      " [ 1. nan  6. nan nan]\n",
      " [ 4.  5. nan nan nan]\n",
      " [nan nan nan  8.  2.]]\n",
      "\n",
      "____________________________________________________________\n",
      "u: [ 0.  1.  5.  7. 11.]\n",
      "v: [  2.  -5.   0.  -3. -11.]\n",
      "S matrix: \n",
      "[[nan 11.  8. nan 11.]\n",
      " [nan  6. 11.  6. 10.]\n",
      " [nan  2. nan  5.  6.]\n",
      " [nan nan  7.  5.  4.]\n",
      " [-5.  1. -3. nan nan]]\n",
      "\n",
      "Cycle path: [(4, 0), (4, 3), (0, 3), (0, 0)]\n",
      "\n",
      "phi: 8.0\n",
      "X: \n",
      " [[ 2. nan nan 11. nan]\n",
      " [ 5. nan nan nan nan]\n",
      " [ 1. nan  6. nan nan]\n",
      " [ 4.  5. nan nan nan]\n",
      " [ 8. nan nan nan  2.]]\n",
      "\n",
      "____________________________________________________________\n",
      "u: [0. 1. 5. 7. 6.]\n",
      "v: [ 2. -5.  0. -3. -6.]\n",
      "S matrix: \n",
      "[[nan 11.  8. nan  6.]\n",
      " [nan  6. 11.  6.  5.]\n",
      " [nan  2. nan  5.  1.]\n",
      " [nan nan  7.  5. -1.]\n",
      " [nan  6.  2.  5. nan]]\n",
      "\n",
      "Cycle path: [(3, 4), (4, 4), (4, 0), (3, 0)]\n",
      "\n",
      "phi: 2.0\n",
      "X: \n",
      " [[ 2. nan nan 11. nan]\n",
      " [ 5. nan nan nan nan]\n",
      " [ 1. nan  6. nan nan]\n",
      " [ 2.  5. nan nan  2.]\n",
      " [10. nan nan nan nan]]\n",
      "\n",
      "____________________________________________________________\n",
      "u: [0. 1. 5. 7. 6.]\n",
      "v: [ 2. -5.  0. -3. -7.]\n",
      "S matrix: \n",
      "[[nan 11.  8. nan  7.]\n",
      " [nan  6. 11.  6.  6.]\n",
      " [nan  2. nan  5.  2.]\n",
      " [nan nan  7.  5. nan]\n",
      " [nan  6.  2.  5.  1.]]\n",
      "\n",
      "X: \n",
      " [[ 2. nan nan 11. nan]\n",
      " [ 5. nan nan nan nan]\n",
      " [ 1. nan  6. nan nan]\n",
      " [ 2.  5. nan nan  2.]\n",
      " [10. nan nan nan nan]]\n",
      "\n",
      "____________________________________________________________\n"
     ]
    },
    {
     "data": {
      "text/plain": [
       "(array([[ 2., nan, nan, 11., nan],\n",
       "        [ 5., nan, nan, nan, nan],\n",
       "        [ 1., nan,  6., nan, nan],\n",
       "        [ 2.,  5., nan, nan,  2.],\n",
       "        [10., nan, nan, nan, nan]]), 131.0, True, True, True)"
      ]
     },
     "execution_count": 82,
     "metadata": {},
     "output_type": "execute_result"
    }
   ],
   "source": [
    "supply = np.array([13, 5, 7, 9, 10])\n",
    "demand = np.array([20, 5, 6, 11, 2])\n",
    "\n",
    "costs = np.array([\n",
    "        [2, 6, 8, -3, 0],\n",
    "        [3, 2, 12, 4, 0],\n",
    "        [7, 2, 5, 7, 0],\n",
    "        [9, 2, 14, 9, 0],\n",
    "        [8, 7, 8, 8, 0]\n",
    "])\n",
    "transport(supply, demand, costs, init_method=\"NCM\")"
   ]
  },
  {
   "cell_type": "code",
   "execution_count": 6,
   "metadata": {},
   "outputs": [
    {
     "data": {
      "text/plain": [
       "(44, 44)"
      ]
     },
     "execution_count": 6,
     "metadata": {},
     "output_type": "execute_result"
    }
   ],
   "source": [
    "sum(supply), sum(demand)"
   ]
  },
  {
   "cell_type": "markdown",
   "metadata": {},
   "source": [
    "https://gist.github.com/bogdan-kulynych/7984367"
   ]
  },
  {
   "cell_type": "code",
   "execution_count": null,
   "metadata": {},
   "outputs": [],
   "source": []
  }
 ],
 "metadata": {
  "kernelspec": {
   "display_name": "Python 3",
   "language": "python",
   "name": "python3"
  },
  "language_info": {
   "codemirror_mode": {
    "name": "ipython",
    "version": 3
   },
   "file_extension": ".py",
   "mimetype": "text/x-python",
   "name": "python",
   "nbconvert_exporter": "python",
   "pygments_lexer": "ipython3",
   "version": "3.6.9"
  }
 },
 "nbformat": 4,
 "nbformat_minor": 2
}
