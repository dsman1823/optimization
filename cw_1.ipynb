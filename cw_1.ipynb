{
 "cells": [
  {
   "cell_type": "code",
   "execution_count": 5,
   "metadata": {},
   "outputs": [],
   "source": [
    "import numpy as np\n",
    "import math"
   ]
  },
  {
   "cell_type": "code",
   "execution_count": 30,
   "metadata": {},
   "outputs": [],
   "source": [
    "A = np.array([\n",
    "        [0, 1, 4, 1, 0, -3, 5, 0],\n",
    "        [1, -1, 0, 1, 0, 0, 1, 0],\n",
    "        [0, 7, -1, 0, -1, 3, 8, 0],\n",
    "        [1, 1, 1, 1, 0, 3, -3, 1]\n",
    "    ]\n",
    ")\n",
    "c = np.array([-5, -2, 3, -4, -6, 0, -1, -5])\n",
    "b = np.array([6, 10, -2, 15])\n",
    "m, n = A.shape\n",
    "x_0 = np.array([4, 0, 0, 6, 2, 0, 0, 5])"
   ]
  },
  {
   "cell_type": "code",
   "execution_count": 28,
   "metadata": {},
   "outputs": [],
   "source": [
    "class OptimalSolutionException(RuntimeError):\n",
    "    def __init__(self, arg):\n",
    "        self.args = arg"
   ]
  },
  {
   "cell_type": "code",
   "execution_count": 45,
   "metadata": {},
   "outputs": [],
   "source": [
    "def get_J_B(x):\n",
    "    J_B = []\n",
    "    for i in range(0, len(x)):\n",
    "        if x[i] != 0:\n",
    "            J_B.append(i)\n",
    "    return J_B\n",
    "\n",
    "\n",
    "def get_J_N(J_B):\n",
    "    return list(set(range(0, n)) - set(J_B))\n",
    "\n",
    "\n",
    "def is_optimal_solution(delta):\n",
    "    return True not in (delta < 0)\n",
    "\n",
    "\n",
    "def get_phi(x_B, z):\n",
    "    phi = []\n",
    "    for i in range(len(x_B)):\n",
    "        if z[i] <= 0:\n",
    "            phi.append(math.inf)\n",
    "        else:\n",
    "            phi.append(x_B[i] / z[i])\n",
    "            \n",
    "    return np.array(phi)\n",
    "\n",
    "\n",
    "def get_new_x_0(phi, J_B, x_B, z, j_0):\n",
    "    phi_0 = min(phi)\n",
    "    delta_x_B = np.array([0.] * 8)\n",
    "    for i in range(m):\n",
    "        ind = J_B[i]\n",
    "        delta_x_B[ind] = x_B[i] - phi_0 * z[i]\n",
    "    \n",
    "    delta_x_B[j_0] = phi_0\n",
    "    \n",
    "    return delta_x_B\n",
    "\n",
    "\n",
    "def make_iteration(x_0):\n",
    "    J_B = get_J_B(x_0)\n",
    "    J_N = get_J_N(J_B)\n",
    "\n",
    "    A_B = A[:, J_B]\n",
    "    A_N = A[:, J_N]\n",
    "    B = np.linalg.inv(A_B)\n",
    "\n",
    "    c_B = c[J_B]\n",
    "    c_N = c[J_N]\n",
    "\n",
    "    u = np.dot(c_B, B)\n",
    "    delta = np.dot(u, A) - c\n",
    "    \n",
    "    if is_optimal_solution(delta):\n",
    "        raise ValueError(f'x_0: {x_0} is optimal solution')\n",
    "    \n",
    "    j_0 = np.where(delta < 0)[0][0]\n",
    "    z = np.dot(B, A[:, j_0])\n",
    "\n",
    "    x_B = x_0[J_B]\n",
    "    phi = get_phi(x_B, z)\n",
    "    \n",
    "    return get_new_x_0(phi, J_B, x_B, z, j_0)"
   ]
  },
  {
   "cell_type": "code",
   "execution_count": 47,
   "metadata": {},
   "outputs": [
    {
     "data": {
      "text/plain": [
       "array([10.        ,  0.        ,  2.2       ,  0.        ,  2.6       ,\n",
       "        0.93333333,  0.        ,  0.        ])"
      ]
     },
     "execution_count": 47,
     "metadata": {},
     "output_type": "execute_result"
    }
   ],
   "source": [
    "x_1"
   ]
  },
  {
   "cell_type": "code",
   "execution_count": null,
   "metadata": {},
   "outputs": [],
   "source": []
  }
 ],
 "metadata": {
  "kernelspec": {
   "display_name": "Python 3",
   "language": "python",
   "name": "python3"
  },
  "language_info": {
   "codemirror_mode": {
    "name": "ipython",
    "version": 3
   },
   "file_extension": ".py",
   "mimetype": "text/x-python",
   "name": "python",
   "nbconvert_exporter": "python",
   "pygments_lexer": "ipython3",
   "version": "3.6.9"
  }
 },
 "nbformat": 4,
 "nbformat_minor": 2
}
